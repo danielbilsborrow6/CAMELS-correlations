{
 "cells": [
  {
   "cell_type": "code",
   "execution_count": 1,
   "id": "1610a0d2",
   "metadata": {},
   "outputs": [],
   "source": [
    "import numpy as np\n",
    "import matplotlib.pyplot as plt\n",
    "from astropy.io import fits"
   ]
  },
  {
   "cell_type": "markdown",
   "id": "b3040027",
   "metadata": {},
   "source": [
    "Modyfying fits inputs for pipeline to see effect on correlation function.\n",
    "- flip signs of ellipticities $\\varepsilon_1+i\\varepsilon_2$ $\\rightarrow$ $\\varepsilon_1-i\\varepsilon_2$\n",
    "- randomly spin orientations $\\varepsilon$ $\\rightarrow$ $e^{i\\phi}\\varepsilon$ where $\\phi$ is randomly sampled  $\\in\\,[0,2\\pi]$\n",
    "- xyz $\\rightarrow$ RA DEC. to use RADEC in pipeline inputs\n",
    "- setting magnitudes of ellipticities to a constant\n",
    "\n",
    "bottom code makes inputs for ellipticity normalised catalogue\n"
   ]
  },
  {
   "cell_type": "markdown",
   "id": "b35e9a78",
   "metadata": {},
   "source": [
    "# Flip"
   ]
  },
  {
   "cell_type": "code",
   "execution_count": 17,
   "id": "d1b50fa9",
   "metadata": {},
   "outputs": [],
   "source": [
    "for i in range(1000):\n",
    "    fits_file_path = f'LH_ellipticities/CAMELS_data_LH{i}.fits'\n",
    "\n",
    "    with fits.open(fits_file_path) as hdul:\n",
    "        data = hdul[1].data\n",
    "\n",
    "    # Now you can use the same variable names\n",
    "    x = data['x']\n",
    "    y = data['y']\n",
    "    z = data['z']\n",
    "    ia_1 = data['ia_1']\n",
    "    ia_2 = data['ia_2']\n",
    "\n",
    "\n",
    "    ia_1 = -ia_1\n",
    "\n",
    "    # Create a FITS table\n",
    "    data = fits.BinTableHDU.from_columns([\n",
    "        #fits.Column(name='jackknife_ID', format='D', array=jack),\n",
    "        fits.Column(name='x', format='D', array=x),\n",
    "        fits.Column(name='y', format='D', array=y),\n",
    "        fits.Column(name='z', format='D', array=z),\n",
    "        fits.Column(name='ia_1', format='D', array=ia_1),\n",
    "        fits.Column(name='ia_2', format='D', array=ia_2),\n",
    "    #     fits.Column(name='chi', format='D', array=chi)\n",
    "    ])\n",
    "\n",
    "    # Create a Primary HDU\n",
    "    primary_hdu = fits.PrimaryHDU()\n",
    "\n",
    "    # Create an HDU list\n",
    "    hdul = fits.HDUList([primary_hdu, data])\n",
    "\n",
    "    # Save the FITS file\n",
    "    hdul.writeto(f'LH_ellipticities_flipped/CAMELS_data_LH{i}_flipped.fits', overwrite=True)\n",
    "    \n",
    "    ###########################\n",
    "    length=len(x)\n",
    "    x_rand = np.random.uniform(min(x), max(x), length)\n",
    "    y_rand = np.random.uniform(min(y), max(y), length)\n",
    "    z_rand = np.random.uniform(min(z), max(z), length)\n",
    "    # z_true_rand = np.random.uniform(min(z_true), max(z_true), length)\n",
    "    #z_true_rand2 = np.random.uniform(min(z_true), max(z_true), length)\n",
    "    ia_1_rand = np.random.normal(loc=0, scale=np.std(ia_1), size=length)\n",
    "    ia_2_rand = np.random.normal(loc=0, scale=np.std(ia_2), size=length)\n",
    "\n",
    "    # Create a FITS table\n",
    "    data = fits.BinTableHDU.from_columns([\n",
    "        #fits.Column(name='jackknife_ID', format='D', array=jack),\n",
    "        fits.Column(name='x', format='D', array=x_rand),\n",
    "        fits.Column(name='y', format='D', array=y_rand),\n",
    "        fits.Column(name='z', format='D', array=z_rand),#0.1001*np.ones(len(pos_g[:,0]))),\n",
    "        fits.Column(name='ia_1', format='D', array=ia_1_rand),\n",
    "        fits.Column(name='ia_2', format='D', array=ia_2_rand),\n",
    "    ])\n",
    "\n",
    "    # Create a Primary HDU\n",
    "    primary_hdu = fits.PrimaryHDU()\n",
    "\n",
    "    # Create an HDU list\n",
    "    hdul = fits.HDUList([primary_hdu, data])\n",
    "\n",
    "    # Save the FITS file\n",
    "    hdul.writeto(f'LH_ellipticities_flipped/CAMELS_rand_LH{i}_flipped.fits', overwrite=True)"
   ]
  },
  {
   "cell_type": "markdown",
   "id": "7f6d4440",
   "metadata": {},
   "source": [
    "# or Spin"
   ]
  },
  {
   "cell_type": "code",
   "execution_count": 28,
   "id": "ab8bf37a",
   "metadata": {},
   "outputs": [],
   "source": [
    "for i in range(1000):\n",
    "    fits_file_path = f'LH_ellipticities/CAMELS_data_LH{i}.fits'\n",
    "\n",
    "    with fits.open(fits_file_path) as hdul:\n",
    "        data = hdul[1].data\n",
    "\n",
    "    # Now you can use the same variable names\n",
    "    x = data['x']\n",
    "    y = data['y']\n",
    "    z = data['z']\n",
    "    ia_1 = data['ia_1']\n",
    "    ia_2 = data['ia_2']\n",
    "    \n",
    "    ######\n",
    "\n",
    "    rangles = np.random.uniform(low=0,high=2*np.pi,size=len(ia_1))\n",
    "\n",
    "    ell = ia_1 + 1j * ia_2\n",
    "\n",
    "    ell_spun = np.absolute(ell) * np.exp(1j * rangles)\n",
    "    # plt.hist(ell_spun.real)\n",
    "    ia_1 = ell_spun.real\n",
    "    ia_2 = ell_spun.imag\n",
    "    \n",
    "    ######\n",
    "    \n",
    "    # Create a FITS table\n",
    "    data = fits.BinTableHDU.from_columns([\n",
    "        #fits.Column(name='jackknife_ID', format='D', array=jack),\n",
    "        fits.Column(name='x', format='D', array=x),\n",
    "        fits.Column(name='y', format='D', array=y),\n",
    "        fits.Column(name='z', format='D', array=z),\n",
    "        fits.Column(name='ia_1', format='D', array=ia_1),\n",
    "        fits.Column(name='ia_2', format='D', array=ia_2),\n",
    "    #     fits.Column(name='chi', format='D', array=chi)\n",
    "    ])\n",
    "\n",
    "    # Create a Primary HDU\n",
    "    primary_hdu = fits.PrimaryHDU()\n",
    "\n",
    "    # Create an HDU list\n",
    "    hdul = fits.HDUList([primary_hdu, data])\n",
    "\n",
    "    # Save the FITS file\n",
    "    hdul.writeto(f'LH_ellipticities_spun/CAMELS_data_LH{i}_spun.fits', overwrite=True)\n",
    "    \n",
    "    ###########################\n",
    "    length=len(x)\n",
    "    x_rand = np.random.uniform(min(x), max(x), length)\n",
    "    y_rand = np.random.uniform(min(y), max(y), length)\n",
    "    z_rand = np.random.uniform(min(z), max(z), length)\n",
    "    # z_true_rand = np.random.uniform(min(z_true), max(z_true), length)\n",
    "    #z_true_rand2 = np.random.uniform(min(z_true), max(z_true), length)\n",
    "    ia_1_rand = np.random.normal(loc=0, scale=np.std(ia_1), size=length)\n",
    "    ia_2_rand = np.random.normal(loc=0, scale=np.std(ia_2), size=length)\n",
    "\n",
    "    # Create a FITS table\n",
    "    data = fits.BinTableHDU.from_columns([\n",
    "        #fits.Column(name='jackknife_ID', format='D', array=jack),\n",
    "        fits.Column(name='x', format='D', array=x_rand),\n",
    "        fits.Column(name='y', format='D', array=y_rand),\n",
    "        fits.Column(name='z', format='D', array=z_rand),#0.1001*np.ones(len(pos_g[:,0]))),\n",
    "        fits.Column(name='ia_1', format='D', array=ia_1_rand),\n",
    "        fits.Column(name='ia_2', format='D', array=ia_2_rand),\n",
    "    ])\n",
    "\n",
    "    # Create a Primary HDU\n",
    "    primary_hdu = fits.PrimaryHDU()\n",
    "\n",
    "    # Create an HDU list\n",
    "    hdul = fits.HDUList([primary_hdu, data])\n",
    "\n",
    "    # Save the FITS file\n",
    "    hdul.writeto(f'LH_ellipticities_spun/CAMELS_rand_LH{i}_spun.fits', overwrite=True)"
   ]
  },
  {
   "cell_type": "markdown",
   "id": "80f686ae",
   "metadata": {},
   "source": [
    "# Change xyz -> RA DEC"
   ]
  },
  {
   "cell_type": "code",
   "execution_count": 29,
   "id": "89fd0aa8",
   "metadata": {},
   "outputs": [],
   "source": [
    "import numpy as np\n",
    "\n",
    "# Function to convert Cartesian coordinates to spherical coordinates\n",
    "def cart_to_spherical(x, y, z):\n",
    "    r = np.sqrt(x**2 + y**2 + z**2)\n",
    "    # make it so z is parallel to line of sight of observer\n",
    "    theta = np.arccos(x / r)\n",
    "    phi = np.arctan2(y, z)\n",
    "    return r, theta, phi\n",
    "\n",
    "# Function to convert spherical coordinates to RA and DEC in degrees\n",
    "def spherical_to_ra_dec(theta, phi):\n",
    "    ra = np.degrees(phi)\n",
    "    dec = 90 - np.degrees(theta)\n",
    "    return ra, dec\n",
    "\n",
    "# Function to calculate the comoving distance from observer\n",
    "# def comoving_distance(r):\n",
    "#     # Assuming a cosmological model, you can use a formula or lookup table\n",
    "#     # Here's a simple linear approximation for demonstration purposes\n",
    "#     return r - 500  # Subtracting 500 Mpc\n",
    "\n",
    "size_=100000# Given Cartesian coordinates\n",
    "x_ = np.random.uniform(0, 25, size=size_)\n",
    "y_ = np.random.uniform(0, 25, size=size_)\n",
    "z_ = np.random.uniform(0, 25, size=size_)\n"
   ]
  },
  {
   "cell_type": "code",
   "execution_count": 9,
   "id": "59a4e0c7",
   "metadata": {},
   "outputs": [],
   "source": [
    "# # Adding 500 Mpc to z-coordinate\n",
    "z__ = z_ + 10000\n",
    "\n",
    "# Convert Cartesian coordinates to spherical coordinates\n",
    "r, theta, phi = cart_to_spherical(y, z, 10000+x)\n",
    "\n",
    "# Convert spherical coordinates to RA and DEC\n",
    "ra, dec = spherical_to_ra_dec(theta, phi)\n",
    "\n",
    "# Calculate comoving distance\n",
    "r_co = comoving_distance(r)\n",
    "\n",
    "# Print results\n",
    "# print(\"RA:\", ra)\n",
    "# print(\"DEC:\", dec)\n",
    "# print(\"Comoving Distance:\", r_co)"
   ]
  },
  {
   "cell_type": "code",
   "execution_count": 10,
   "id": "586168db",
   "metadata": {},
   "outputs": [
    {
     "name": "stdout",
     "output_type": "stream",
     "text": [
      "0.005714395033408404 24.99941321383985\n"
     ]
    },
    {
     "data": {
      "image/png": "[encoded data removed]",
      "text/plain": [
       "<Figure size 640x480 with 1 Axes>"
      ]
     },
     "metadata": {},
     "output_type": "display_data"
    }
   ],
   "source": [
    "## SCALE IMPORTANT !!\n",
    "scale = max(dec)/max(x_)\n",
    "_ = plt.scatter(ra,dec,c='darkorange',s=5)\n",
    "_ = plt.scatter(scale*(z),scale*y,c='green',s=5)\n",
    "plt.xlabel('RA')\n",
    "plt.ylabel('DEC')\n",
    "plt.title('Galaxies positions')\n",
    "print(scale, max(x_))"
   ]
  },
  {
   "cell_type": "code",
   "execution_count": 70,
   "id": "e7680304",
   "metadata": {},
   "outputs": [
    {
     "name": "stdout",
     "output_type": "stream",
     "text": [
      "138\n"
     ]
    },
    {
     "data": {
      "image/png": "[encoded data removed]",
      "text/plain": [
       "<Figure size 640x480 with 1 Axes>"
      ]
     },
     "metadata": {},
     "output_type": "display_data"
    }
   ],
   "source": [
    "for i in range(17,18):\n",
    "    fits_file_path = f'LH_ellipticities/CAMELS_data_LH{i}.fits'\n",
    "\n",
    "    with fits.open(fits_file_path) as hdul:\n",
    "        data = hdul[1].data\n",
    "\n",
    "    # Now you can use the same variable names\n",
    "    x = data['x']\n",
    "    y = data['y']\n",
    "    z = data['z']\n",
    "    ia_1 = data['ia_1']\n",
    "    ia_2 = data['ia_2']\n",
    "#     print(i)\n",
    "\n",
    "r, theta, phi = cart_to_spherical(x, y, z+10000)\n",
    "ra, dec = spherical_to_ra_dec(theta, phi)\n",
    "max_ra = np.max(ra)\n",
    "_ = plt.scatter(0.00571439*y,0.00571439*x,c='darkorange')\n",
    "_ = plt.scatter(ra,dec,alpha=0.5,label='+300 Mpc')\n",
    "# r, theta, phi = cart_to_spherical(x, y, z+2000)\n",
    "# ra, dec = spherical_to_ra_dec(theta, phi)\n",
    "# _ = plt.scatter(ra*(max_ra/np.max(ra)),dec*(max_ra/np.max(ra)),alpha=0.5,label=f'+2000 Mpc scaled by {max_ra/np.max(ra):.2f}')\n",
    "# r, theta, phi = cart_to_spherical(x, y, z+300)\n",
    "# ra, dec = spherical_to_ra_dec(theta, phi)\n",
    "# _ = plt.scatter(ra*(max_ra/np.max(ra)),dec*(max_ra/np.max(ra)),alpha=0.5)\n",
    "\n",
    "plt.xlabel('RA')\n",
    "plt.ylabel('DEC')\n",
    "plt.title('Galaxies positions looking from +z direction')\n",
    "plt.legend()\n",
    "print(len(x))"
   ]
  },
  {
   "cell_type": "code",
   "execution_count": 5,
   "id": "d2fd7ae8",
   "metadata": {},
   "outputs": [],
   "source": [
    "ias_1 = np.array([])\n",
    "ias_2 = np.array([])"
   ]
  },
  {
   "cell_type": "code",
   "execution_count": 31,
   "id": "61a0977e",
   "metadata": {},
   "outputs": [],
   "source": [
    "for i in range(1000):\n",
    "    fits_file_path = f'LH_ellipticities/CAMELS_data_LH{i}.fits'\n",
    "\n",
    "    with fits.open(fits_file_path) as hdul:\n",
    "        data = hdul[1].data\n",
    "\n",
    "    # Now you can use the same variable names\n",
    "    x = data['x']\n",
    "    y = data['y']\n",
    "    z = data['z']\n",
    "    ia_1 = data['ia_1']\n",
    "    ia_2 = data['ia_2']\n",
    "\n",
    "     \n",
    "    z+= 10000\n",
    "    # Convert Cartesian coordinates to spherical coordinates\n",
    "    r, theta, phi = cart_to_spherical(x, y, z)\n",
    "\n",
    "    # Convert spherical coordinates to RA and DEC\n",
    "    ra, dec = spherical_to_ra_dec(theta, phi)\n",
    "\n",
    "    # Calculate comoving distance\n",
    "#     r_co = comoving_distance(r)\n",
    "\n",
    "    # Create a FITS table\n",
    "    data = fits.BinTableHDU.from_columns([\n",
    "        #fits.Column(name='jackknife_ID', format='D', array=jack),\n",
    "        fits.Column(name='RA', format='D', array=ra),\n",
    "        fits.Column(name='DEC', format='D', array=dec),\n",
    "        fits.Column(name='r_col', format='D', array=r),\n",
    "        fits.Column(name='ia_1', format='D', array=ia_1),\n",
    "        fits.Column(name='ia_2', format='D', array=ia_2),\n",
    "    #     fits.Column(name='chi', format='D', array=chi)\n",
    "    ])\n",
    "\n",
    "    # Create a Primary HDU\n",
    "    primary_hdu = fits.PrimaryHDU()\n",
    "\n",
    "    # Create an HDU list\n",
    "    hdul = fits.HDUList([primary_hdu, data])\n",
    "\n",
    "    # Save the FITS file\n",
    "    hdul.writeto(f'LH_ellipticities_RADEC/CAMELS_proj_data_LHz{i}.fits', overwrite=True)\n",
    "    \n",
    "    ###########################\n",
    "    length=len(x)\n",
    "#     x_ = np.random.uniform(0, 25, size=length)\n",
    "#     y_ = np.random.uniform(0, 25, size=length)\n",
    "#     z_ = np.random.uniform(0, 25, size=length)\n",
    "#     z_+= 10000\n",
    "#     r_rand, theta, phi = cart_to_spherical(x_, y_, z_)\n",
    "#     ra_rand, dec_rand = spherical_to_ra_dec(theta, phi)\n",
    "    ra_rand = np.random.uniform(min(ra), max(ra), length)\n",
    "    dec_rand = np.random.uniform(min(dec), max(dec), length)\n",
    "    r_rand = np.random.uniform(min(r), max(r), length)\n",
    "    # z_true_rand = np.random.uniform(min(z_true), max(z_true), length)\n",
    "    #z_true_rand2 = np.random.uniform(min(z_true), max(z_true), length)\n",
    "    ias_1 = np.append(ias_1,ia_1); ias_2 = np.append(ias_2,ia_2)\n",
    "    ia_1_rand = np.random.normal(loc=0.00010791977297379453, scale=0.14812554318943333, size=length)\n",
    "    ia_2_rand = np.random.normal(loc=3.277059434446139e-05, scale=0.1469793256996833, size=length)\n",
    "\n",
    "    # Create a FITS table\n",
    "    data = fits.BinTableHDU.from_columns([\n",
    "        #fits.Column(name='jackknife_ID', format='D', array=jack),\n",
    "        fits.Column(name='RA', format='D', array=ra_rand),\n",
    "        fits.Column(name='DEC', format='D', array=dec_rand),\n",
    "        fits.Column(name='r_col', format='D', array=r_rand)#0.1001*np.ones(len(pos_g[:,0]))),\n",
    "#         fits.Column(name='ia_1', format='D', array=ia_1_rand),\n",
    "#         fits.Column(name='ia_2', format='D', array=ia_2_rand),\n",
    "    ])\n",
    "\n",
    "    # Create a Primary HDU\n",
    "    primary_hdu = fits.PrimaryHDU()\n",
    "\n",
    "    # Create an HDU list\n",
    "    hdul = fits.HDUList([primary_hdu, data])\n",
    "\n",
    "    # Save the FITS file\n",
    "    hdul.writeto(f'LH_ellipticities_RADEC/CAMELS_proj_rand_LHz{i}.fits', overwrite=True)"
   ]
  },
  {
   "cell_type": "code",
   "execution_count": 10,
   "id": "315f6158",
   "metadata": {},
   "outputs": [],
   "source": [
    "def gaussian(x, mu, sig):\n",
    "    return (\n",
    "        1.0 / (np.sqrt(2.0 * np.pi) * sig) * np.exp(-np.power((x - mu) / sig, 2.0) / 2)\n",
    "    )"
   ]
  },
  {
   "cell_type": "code",
   "execution_count": 11,
   "id": "38755b2f",
   "metadata": {},
   "outputs": [
    {
     "name": "stdout",
     "output_type": "stream",
     "text": [
      "0.2032270318109836 0.2015384943195595 (823787,) (823787,)\n"
     ]
    },
    {
     "data": {
      "image/png": "[encoded data removed]",
      "text/plain": [
       "<Figure size 640x480 with 1 Axes>"
      ]
     },
     "metadata": {},
     "output_type": "display_data"
    }
   ],
   "source": [
    "plt.hist(ias_1,bins=510,density=True)\n",
    "sd_1 = np.std(ias_1); sd_2 = np.std(ias_2)\n",
    "print(sd_1, sd_2, ias_1.shape, ias_2.shape)\n",
    "plt.plot(np.linspace(-1,1,200), gaussian(np.linspace(-1,1,200), 0 ,sd_1))\n",
    "plt.tight_layout()"
   ]
  },
  {
   "cell_type": "code",
   "execution_count": 66,
   "id": "d0798747",
   "metadata": {},
   "outputs": [
    {
     "name": "stdout",
     "output_type": "stream",
     "text": [
      "0.00010791977297379453 3.277059434446139e-05 0.14812554318943333 0.1469793256996833\n"
     ]
    },
    {
     "data": {
      "image/png": "[encoded data removed]",
      "text/plain": [
       "<Figure size 640x480 with 1 Axes>"
      ]
     },
     "metadata": {},
     "output_type": "display_data"
    }
   ],
   "source": [
    "from scipy.stats import norm\n",
    "from scipy.optimize import curve_fit\n",
    "# Step 1: Create the histogram\n",
    "counts, bin_edges = np.histogram(ias_1, bins=512, density=True)\n",
    "bin_centers = (bin_edges[:-1] + bin_edges[1:]) / 2  # Midpoints of bins\n",
    "counts2, bin_edges2 = np.histogram(ias_2, bins=512, density=True)\n",
    "bin_centers2 = (bin_edges2[:-1] + bin_edges2[1:]) / 2  # Midpoints of bins\n",
    "# Initial guesses for mean and standard deviation\n",
    "mu_init = np.mean(ias_1)\n",
    "sigma_init = np.std(ias_1)\n",
    "\n",
    "# Step 3: Fit the Gaussian to the histogram data\n",
    "params, _ = curve_fit(gaussian, bin_centers, counts, p0=[mu_init, sigma_init])\n",
    "params2, _ = curve_fit(gaussian, bin_centers2, counts2, p0=[mu_init, sigma_init])\n",
    "\n",
    "# Extract the fitted mean and standard deviation\n",
    "mu_fit, sigma_fit = params\n",
    "mu_fit2, sigma_fit2 = params2\n",
    "\n",
    "plt.hist(ias_1,bins=512,density=True)\n",
    "plt.plot(np.linspace(-1,1,200), gaussian(np.linspace(-1,1,200), mu_fit ,sigma_fit))\n",
    "plt.plot(np.linspace(-1,1,200), gaussian(np.linspace(-1,1,200), mu_fit2 ,sigma_fit2))\n",
    "plt.tight_layout()\n",
    "print(mu_fit, mu_fit2, sigma_fit, sigma_fit2)"
   ]
  },
  {
   "cell_type": "code",
   "execution_count": 62,
   "id": "119a22b2",
   "metadata": {},
   "outputs": [
    {
     "name": "stdout",
     "output_type": "stream",
     "text": [
      "0.00010792632989032592 3.27033571035975e-05\n"
     ]
    }
   ],
   "source": [
    "print(mu_fit, mu_fit2)"
   ]
  },
  {
   "cell_type": "code",
   "execution_count": 20,
   "id": "67dd4106",
   "metadata": {},
   "outputs": [
    {
     "name": "stdout",
     "output_type": "stream",
     "text": [
      "0.22161486140744618\n"
     ]
    },
    {
     "data": {
      "text/plain": [
       "Text(0.5, 0, '$|\\\\varepsilon|$')"
      ]
     },
     "execution_count": 20,
     "metadata": {},
     "output_type": "execute_result"
    },
    {
     "data": {
      "image/png": "[encoded data removed]",
      "text/plain": [
       "<Figure size 640x480 with 1 Axes>"
      ]
     },
     "metadata": {},
     "output_type": "display_data"
    }
   ],
   "source": [
    "mean_e = np.mean(np.sqrt(ias_1**2+ias_2**2))\n",
    "print(mean_e)\n",
    "plt.hist(np.sqrt(ias_1**2+ias_2**2),bins=510,density=True)\n",
    "plt.vlines(mean_e,ymin=0, ymax=3.7,lw=0.5, color='r')\n",
    "plt.xlabel(r'$|\\varepsilon|$')"
   ]
  },
  {
   "cell_type": "markdown",
   "id": "5b3b6ba4",
   "metadata": {},
   "source": [
    "### RADEC Magnatudes set to 1"
   ]
  },
  {
   "cell_type": "code",
   "execution_count": 5,
   "id": "e8b0e722",
   "metadata": {},
   "outputs": [
    {
     "data": {
      "text/plain": [
       "0.22450967254985182"
      ]
     },
     "execution_count": 5,
     "metadata": {},
     "output_type": "execute_result"
    }
   ],
   "source": [
    "np.mean(mags)"
   ]
  },
  {
   "cell_type": "code",
   "execution_count": 32,
   "id": "98945d6e",
   "metadata": {},
   "outputs": [],
   "source": [
    "\n",
    "axis = 'y'\n",
    "for i in range(0,1000):\n",
    "    fits_file_path = f'LH_ellipticities_RADEC/CAMELS_proj_data_LH{axis}{i}.fits'\n",
    "\n",
    "    with fits.open(fits_file_path) as hdul:\n",
    "        data = hdul[1].data\n",
    "\n",
    "    # Now you can use the same variable names\n",
    "    ra = data['RA']\n",
    "    dec = data['DEC']\n",
    "    r = data['r_col']\n",
    "    ia_1 = data['ia_1']\n",
    "    ia_2 = data['ia_2']\n",
    "    \n",
    "    complx_ell = ia_1 + 1j * ia_2\n",
    "    mags = np.abs(complx_ell)\n",
    "    norm_ell = (complx_ell / mags ) * mean_e\n",
    "    norm_ia_1 = norm_ell.real\n",
    "    norm_ia_2 = norm_ell.imag\n",
    "     \n",
    "#     z+= 10000\n",
    "#     # Convert Cartesian coordinates to spherical coordinates\n",
    "#     r, theta, phi = cart_to_spherical(x, y, z)\n",
    "\n",
    "#     # Convert spherical coordinates to RA and DEC\n",
    "#     ra, dec = spherical_to_ra_dec(theta, phi)\n",
    "\n",
    "\n",
    "    # Create a FITS table\n",
    "    data = fits.BinTableHDU.from_columns([\n",
    "        #fits.Column(name='jackknife_ID', format='D', array=jack),\n",
    "        fits.Column(name='RA', format='D', array=ra),\n",
    "        fits.Column(name='DEC', format='D', array=dec),\n",
    "        fits.Column(name='r_col', format='D', array=r),\n",
    "        fits.Column(name='ia_1', format='D', array=norm_ia_1),\n",
    "        fits.Column(name='ia_2', format='D', array=norm_ia_2),\n",
    "    #     fits.Column(name='chi', format='D', array=chi)\n",
    "    ])\n",
    "\n",
    "    # Create a Primary HDU\n",
    "    primary_hdu = fits.PrimaryHDU()\n",
    "\n",
    "    # Create an HDU list\n",
    "    hdul = fits.HDUList([primary_hdu, data])\n",
    "\n",
    "    # Save the FITS file\n",
    "    hdul.writeto(f'LH_ellipticities_RADEC_noMAG/CAMELS_proj_data_LH{axis}{i}.fits', overwrite=True)\n",
    "    \n",
    "    ###########################\n",
    "    fits_file_path = f'LH_ellipticities_RADEC/CAMELS_proj_rand_LH{axis}{i}.fits'\n",
    "\n",
    "    with fits.open(fits_file_path) as hdul:\n",
    "        data = hdul[1].data\n",
    "\n",
    "    # Now you can use the same variable names\n",
    "    ra_rand = data['RA']\n",
    "    dec_rand = data['DEC']\n",
    "    r_rand = data['r_col']\n",
    "#     x_rand, y_rand, z_rand = np.random.uniform(0, 25, (3,len(ra)))\n",
    "#     ia_1_rand, ia_2_rand = np.random.normal(loc=0, scale=0.14, size=(2,len(ra)))\n",
    "\n",
    "#     z_rand += 10000\n",
    "\n",
    "#     r_rand, theta, phi = cart_to_spherical(x_rand, y_rand, z_rand)\n",
    "#     ra_rand, dec_rand = spherical_to_ra_dec(theta, phi)\n",
    "\n",
    "    # Create a FITS table\n",
    "    data = fits.BinTableHDU.from_columns([\n",
    "        fits.Column(name='RA', format='D', array=ra_rand),\n",
    "        fits.Column(name='DEC', format='D', array=dec_rand),\n",
    "        fits.Column(name='r_col', format='D', array=r_rand)\n",
    "    ])\n",
    "\n",
    "    # Create a Primary HDU\n",
    "    primary_hdu = fits.PrimaryHDU()\n",
    "\n",
    "    # Create an HDU list\n",
    "    hdul = fits.HDUList([primary_hdu, data])\n",
    "\n",
    "    # Save the FITS file\n",
    "    hdul.writeto(f'LH_ellipticities_RADEC_noMAG/CAMELS_proj_rand_LH{axis}{i}.fits', overwrite=True)"
   ]
  },
  {
   "cell_type": "code",
   "execution_count": null,
   "id": "3eec4ed5",
   "metadata": {},
   "outputs": [],
   "source": []
  },
  {
   "cell_type": "code",
   "execution_count": 7,
   "id": "c5a8a45c",
   "metadata": {},
   "outputs": [
    {
     "data": {
      "text/plain": [
       "array([0.22450967, 0.22450967, 0.22450967, 0.22450967, 0.22450967,\n",
       "       0.22450967, 0.22450967, 0.22450967, 0.22450967, 0.22450967,\n",
       "       0.22450967, 0.22450967, 0.22450967, 0.22450967, 0.22450967,\n",
       "       0.22450967, 0.22450967, 0.22450967, 0.22450967, 0.22450967,\n",
       "       0.22450967, 0.22450967, 0.22450967, 0.22450967, 0.22450967,\n",
       "       0.22450967, 0.22450967, 0.22450967, 0.22450967, 0.22450967,\n",
       "       0.22450967, 0.22450967, 0.22450967, 0.22450967, 0.22450967,\n",
       "       0.22450967, 0.22450967, 0.22450967, 0.22450967, 0.22450967,\n",
       "       0.22450967, 0.22450967, 0.22450967, 0.22450967, 0.22450967,\n",
       "       0.22450967, 0.22450967, 0.22450967, 0.22450967, 0.22450967,\n",
       "       0.22450967, 0.22450967, 0.22450967, 0.22450967, 0.22450967,\n",
       "       0.22450967, 0.22450967, 0.22450967, 0.22450967, 0.22450967,\n",
       "       0.22450967, 0.22450967, 0.22450967, 0.22450967, 0.22450967,\n",
       "       0.22450967, 0.22450967, 0.22450967, 0.22450967, 0.22450967,\n",
       "       0.22450967, 0.22450967, 0.22450967, 0.22450967, 0.22450967,\n",
       "       0.22450967, 0.22450967, 0.22450967, 0.22450967, 0.22450967,\n",
       "       0.22450967, 0.22450967, 0.22450967, 0.22450967, 0.22450967,\n",
       "       0.22450967, 0.22450967, 0.22450967, 0.22450967, 0.22450967,\n",
       "       0.22450967, 0.22450967, 0.22450967, 0.22450967, 0.22450967,\n",
       "       0.22450967, 0.22450967, 0.22450967, 0.22450967, 0.22450967,\n",
       "       0.22450967, 0.22450967, 0.22450967, 0.22450967, 0.22450967,\n",
       "       0.22450967, 0.22450967, 0.22450967, 0.22450967, 0.22450967,\n",
       "       0.22450967, 0.22450967, 0.22450967, 0.22450967, 0.22450967,\n",
       "       0.22450967, 0.22450967, 0.22450967, 0.22450967, 0.22450967,\n",
       "       0.22450967, 0.22450967, 0.22450967, 0.22450967, 0.22450967,\n",
       "       0.22450967, 0.22450967, 0.22450967, 0.22450967, 0.22450967,\n",
       "       0.22450967, 0.22450967, 0.22450967, 0.22450967, 0.22450967,\n",
       "       0.22450967, 0.22450967, 0.22450967, 0.22450967, 0.22450967,\n",
       "       0.22450967, 0.22450967, 0.22450967, 0.22450967, 0.22450967,\n",
       "       0.22450967, 0.22450967, 0.22450967, 0.22450967, 0.22450967,\n",
       "       0.22450967, 0.22450967, 0.22450967, 0.22450967, 0.22450967,\n",
       "       0.22450967, 0.22450967, 0.22450967, 0.22450967, 0.22450967,\n",
       "       0.22450967, 0.22450967, 0.22450967, 0.22450967, 0.22450967,\n",
       "       0.22450967, 0.22450967, 0.22450967, 0.22450967, 0.22450967,\n",
       "       0.22450967, 0.22450967, 0.22450967, 0.22450967, 0.22450967,\n",
       "       0.22450967, 0.22450967, 0.22450967, 0.22450967, 0.22450967,\n",
       "       0.22450967, 0.22450967, 0.22450967, 0.22450967, 0.22450967,\n",
       "       0.22450967, 0.22450967, 0.22450967, 0.22450967, 0.22450967,\n",
       "       0.22450967, 0.22450967, 0.22450967, 0.22450967, 0.22450967,\n",
       "       0.22450967, 0.22450967, 0.22450967, 0.22450967, 0.22450967,\n",
       "       0.22450967, 0.22450967, 0.22450967, 0.22450967, 0.22450967,\n",
       "       0.22450967, 0.22450967, 0.22450967, 0.22450967, 0.22450967,\n",
       "       0.22450967, 0.22450967, 0.22450967, 0.22450967, 0.22450967,\n",
       "       0.22450967, 0.22450967, 0.22450967, 0.22450967, 0.22450967,\n",
       "       0.22450967, 0.22450967, 0.22450967, 0.22450967, 0.22450967,\n",
       "       0.22450967, 0.22450967, 0.22450967, 0.22450967, 0.22450967,\n",
       "       0.22450967, 0.22450967, 0.22450967, 0.22450967, 0.22450967,\n",
       "       0.22450967, 0.22450967, 0.22450967, 0.22450967, 0.22450967,\n",
       "       0.22450967, 0.22450967, 0.22450967, 0.22450967, 0.22450967,\n",
       "       0.22450967, 0.22450967, 0.22450967, 0.22450967, 0.22450967,\n",
       "       0.22450967, 0.22450967, 0.22450967, 0.22450967, 0.22450967,\n",
       "       0.22450967, 0.22450967, 0.22450967, 0.22450967, 0.22450967,\n",
       "       0.22450967, 0.22450967, 0.22450967, 0.22450967, 0.22450967,\n",
       "       0.22450967, 0.22450967, 0.22450967, 0.22450967, 0.22450967,\n",
       "       0.22450967, 0.22450967, 0.22450967, 0.22450967, 0.22450967,\n",
       "       0.22450967, 0.22450967, 0.22450967, 0.22450967, 0.22450967,\n",
       "       0.22450967, 0.22450967, 0.22450967, 0.22450967, 0.22450967,\n",
       "       0.22450967, 0.22450967, 0.22450967, 0.22450967, 0.22450967,\n",
       "       0.22450967, 0.22450967, 0.22450967, 0.22450967, 0.22450967,\n",
       "       0.22450967, 0.22450967, 0.22450967, 0.22450967, 0.22450967,\n",
       "       0.22450967, 0.22450967, 0.22450967, 0.22450967, 0.22450967,\n",
       "       0.22450967, 0.22450967, 0.22450967, 0.22450967, 0.22450967,\n",
       "       0.22450967, 0.22450967, 0.22450967, 0.22450967, 0.22450967,\n",
       "       0.22450967, 0.22450967, 0.22450967, 0.22450967, 0.22450967,\n",
       "       0.22450967, 0.22450967, 0.22450967, 0.22450967, 0.22450967,\n",
       "       0.22450967, 0.22450967, 0.22450967, 0.22450967, 0.22450967,\n",
       "       0.22450967, 0.22450967, 0.22450967, 0.22450967, 0.22450967,\n",
       "       0.22450967, 0.22450967, 0.22450967, 0.22450967, 0.22450967,\n",
       "       0.22450967, 0.22450967, 0.22450967, 0.22450967, 0.22450967,\n",
       "       0.22450967, 0.22450967, 0.22450967, 0.22450967, 0.22450967,\n",
       "       0.22450967, 0.22450967, 0.22450967, 0.22450967, 0.22450967,\n",
       "       0.22450967, 0.22450967, 0.22450967, 0.22450967, 0.22450967,\n",
       "       0.22450967, 0.22450967, 0.22450967, 0.22450967, 0.22450967,\n",
       "       0.22450967, 0.22450967, 0.22450967, 0.22450967, 0.22450967,\n",
       "       0.22450967, 0.22450967, 0.22450967, 0.22450967, 0.22450967,\n",
       "       0.22450967, 0.22450967, 0.22450967, 0.22450967, 0.22450967,\n",
       "       0.22450967, 0.22450967, 0.22450967, 0.22450967, 0.22450967,\n",
       "       0.22450967, 0.22450967, 0.22450967, 0.22450967, 0.22450967,\n",
       "       0.22450967, 0.22450967, 0.22450967, 0.22450967, 0.22450967,\n",
       "       0.22450967, 0.22450967, 0.22450967, 0.22450967, 0.22450967,\n",
       "       0.22450967, 0.22450967, 0.22450967, 0.22450967, 0.22450967,\n",
       "       0.22450967, 0.22450967, 0.22450967, 0.22450967, 0.22450967,\n",
       "       0.22450967, 0.22450967, 0.22450967, 0.22450967, 0.22450967,\n",
       "       0.22450967, 0.22450967, 0.22450967, 0.22450967, 0.22450967,\n",
       "       0.22450967, 0.22450967, 0.22450967, 0.22450967, 0.22450967,\n",
       "       0.22450967, 0.22450967, 0.22450967, 0.22450967, 0.22450967,\n",
       "       0.22450967, 0.22450967, 0.22450967, 0.22450967, 0.22450967,\n",
       "       0.22450967, 0.22450967, 0.22450967, 0.22450967, 0.22450967,\n",
       "       0.22450967, 0.22450967, 0.22450967, 0.22450967, 0.22450967,\n",
       "       0.22450967, 0.22450967, 0.22450967, 0.22450967, 0.22450967,\n",
       "       0.22450967, 0.22450967, 0.22450967, 0.22450967, 0.22450967,\n",
       "       0.22450967, 0.22450967, 0.22450967, 0.22450967, 0.22450967,\n",
       "       0.22450967, 0.22450967, 0.22450967, 0.22450967, 0.22450967,\n",
       "       0.22450967, 0.22450967, 0.22450967, 0.22450967, 0.22450967,\n",
       "       0.22450967, 0.22450967, 0.22450967, 0.22450967, 0.22450967,\n",
       "       0.22450967, 0.22450967, 0.22450967, 0.22450967, 0.22450967,\n",
       "       0.22450967, 0.22450967, 0.22450967, 0.22450967, 0.22450967,\n",
       "       0.22450967, 0.22450967, 0.22450967, 0.22450967, 0.22450967,\n",
       "       0.22450967, 0.22450967, 0.22450967, 0.22450967, 0.22450967,\n",
       "       0.22450967, 0.22450967, 0.22450967, 0.22450967, 0.22450967,\n",
       "       0.22450967, 0.22450967, 0.22450967, 0.22450967, 0.22450967,\n",
       "       0.22450967, 0.22450967, 0.22450967, 0.22450967, 0.22450967,\n",
       "       0.22450967, 0.22450967, 0.22450967, 0.22450967, 0.22450967,\n",
       "       0.22450967, 0.22450967, 0.22450967, 0.22450967, 0.22450967,\n",
       "       0.22450967, 0.22450967, 0.22450967, 0.22450967, 0.22450967,\n",
       "       0.22450967, 0.22450967, 0.22450967, 0.22450967, 0.22450967,\n",
       "       0.22450967, 0.22450967, 0.22450967, 0.22450967, 0.22450967,\n",
       "       0.22450967, 0.22450967, 0.22450967, 0.22450967, 0.22450967,\n",
       "       0.22450967, 0.22450967, 0.22450967, 0.22450967, 0.22450967,\n",
       "       0.22450967, 0.22450967, 0.22450967, 0.22450967, 0.22450967,\n",
       "       0.22450967, 0.22450967, 0.22450967, 0.22450967, 0.22450967,\n",
       "       0.22450967, 0.22450967, 0.22450967, 0.22450967, 0.22450967,\n",
       "       0.22450967, 0.22450967, 0.22450967, 0.22450967, 0.22450967,\n",
       "       0.22450967, 0.22450967, 0.22450967, 0.22450967, 0.22450967,\n",
       "       0.22450967, 0.22450967, 0.22450967, 0.22450967, 0.22450967,\n",
       "       0.22450967, 0.22450967, 0.22450967, 0.22450967, 0.22450967,\n",
       "       0.22450967, 0.22450967, 0.22450967, 0.22450967, 0.22450967,\n",
       "       0.22450967, 0.22450967, 0.22450967, 0.22450967, 0.22450967,\n",
       "       0.22450967, 0.22450967, 0.22450967, 0.22450967, 0.22450967,\n",
       "       0.22450967, 0.22450967, 0.22450967, 0.22450967, 0.22450967,\n",
       "       0.22450967, 0.22450967, 0.22450967, 0.22450967, 0.22450967,\n",
       "       0.22450967, 0.22450967, 0.22450967, 0.22450967, 0.22450967,\n",
       "       0.22450967, 0.22450967, 0.22450967, 0.22450967, 0.22450967,\n",
       "       0.22450967, 0.22450967, 0.22450967, 0.22450967, 0.22450967,\n",
       "       0.22450967, 0.22450967, 0.22450967, 0.22450967, 0.22450967,\n",
       "       0.22450967, 0.22450967, 0.22450967, 0.22450967, 0.22450967,\n",
       "       0.22450967, 0.22450967, 0.22450967, 0.22450967, 0.22450967,\n",
       "       0.22450967, 0.22450967, 0.22450967, 0.22450967, 0.22450967,\n",
       "       0.22450967, 0.22450967, 0.22450967, 0.22450967, 0.22450967,\n",
       "       0.22450967, 0.22450967, 0.22450967, 0.22450967, 0.22450967,\n",
       "       0.22450967, 0.22450967, 0.22450967, 0.22450967, 0.22450967,\n",
       "       0.22450967, 0.22450967, 0.22450967, 0.22450967, 0.22450967,\n",
       "       0.22450967, 0.22450967, 0.22450967, 0.22450967, 0.22450967,\n",
       "       0.22450967, 0.22450967, 0.22450967, 0.22450967, 0.22450967,\n",
       "       0.22450967, 0.22450967, 0.22450967, 0.22450967, 0.22450967,\n",
       "       0.22450967, 0.22450967, 0.22450967, 0.22450967, 0.22450967,\n",
       "       0.22450967, 0.22450967, 0.22450967, 0.22450967, 0.22450967,\n",
       "       0.22450967, 0.22450967, 0.22450967, 0.22450967, 0.22450967,\n",
       "       0.22450967, 0.22450967, 0.22450967, 0.22450967, 0.22450967,\n",
       "       0.22450967, 0.22450967, 0.22450967, 0.22450967, 0.22450967,\n",
       "       0.22450967, 0.22450967, 0.22450967, 0.22450967, 0.22450967,\n",
       "       0.22450967, 0.22450967, 0.22450967, 0.22450967, 0.22450967,\n",
       "       0.22450967, 0.22450967, 0.22450967, 0.22450967, 0.22450967,\n",
       "       0.22450967, 0.22450967, 0.22450967, 0.22450967, 0.22450967,\n",
       "       0.22450967, 0.22450967, 0.22450967, 0.22450967, 0.22450967,\n",
       "       0.22450967, 0.22450967, 0.22450967, 0.22450967, 0.22450967,\n",
       "       0.22450967, 0.22450967, 0.22450967])"
      ]
     },
     "execution_count": 7,
     "metadata": {},
     "output_type": "execute_result"
    }
   ],
   "source": [
    "np.sqrt((np.array([norm_ia_1,norm_ia_2]).T)[:,0]**2+(np.array([norm_ia_1,norm_ia_2]).T)[:,1]**2)"
   ]
  },
  {
   "cell_type": "markdown",
   "id": "61cee5a9",
   "metadata": {},
   "source": [
    "## Just Magnitudes and No spin making inputs"
   ]
  },
  {
   "cell_type": "code",
   "execution_count": 8,
   "id": "83deb0be",
   "metadata": {},
   "outputs": [],
   "source": [
    "for i in range(0,1000):\n",
    "    fits_file_path = f'LH_ellipticities/CAMELS_data_LHy{i}.fits'\n",
    "\n",
    "    with fits.open(fits_file_path) as hdul:\n",
    "        data = hdul[1].data\n",
    "\n",
    "    # Now you can use the same variable names\n",
    "    x = data['x']\n",
    "    y = data['y']\n",
    "    z = data['z']\n",
    "    ia_1 = data['ia_1']\n",
    "    ia_2 = data['ia_2']\n",
    "    \n",
    "    complx_ell = ia_1 + 1j * ia_2\n",
    "    mags = np.abs(complx_ell)\n",
    "    norm_ell = complx_ell / mags\n",
    "    norm_ia_1 = norm_ell.real\n",
    "    norm_ia_2 = norm_ell.imag\n",
    "     \n",
    "    z+= 10000\n",
    "    # Convert Cartesian coordinates to spherical coordinates\n",
    "    r, theta, phi = cart_to_spherical(x, y, z)\n",
    "\n",
    "    # Convert spherical coordinates to RA and DEC\n",
    "    ra, dec = spherical_to_ra_dec(theta, phi)\n",
    "\n",
    "\n",
    "\n",
    "    # Create a FITS table\n",
    "    data = fits.BinTableHDU.from_columns([\n",
    "        #fits.Column(name='jackknife_ID', format='D', array=jack),\n",
    "        fits.Column(name='RA', format='D', array=ra),\n",
    "        fits.Column(name='DEC', format='D', array=dec),\n",
    "        fits.Column(name='r_col', format='D', array=r),\n",
    "        fits.Column(name='ell_mag', format='D', array=mags)\n",
    "#         fits.Column(name='ia_1', format='D', array=norm_ia_1),\n",
    "#         fits.Column(name='ia_2', format='D', array=norm_ia_2),\n",
    "    #     fits.Column(name='chi', format='D', array=chi)\n",
    "    ])\n",
    "\n",
    "    # Create a Primary HDU\n",
    "    primary_hdu = fits.PrimaryHDU()\n",
    "\n",
    "    # Create an HDU list\n",
    "    hdul = fits.HDUList([primary_hdu, data])\n",
    "\n",
    "    # Save the FITS file\n",
    "    hdul.writeto(f'LH_ellipticities_RADEC_noORI/CAMELS_proj_data_LHy{i}.fits', overwrite=True)\n",
    "    \n",
    "    ###########################\n",
    "    length=len(x)\n",
    "    x_ = np.random.uniform(0, 25, size=length)\n",
    "    y_ = np.random.uniform(0, 25, size=length)\n",
    "    z_ = np.random.uniform(0, 25, size=length)\n",
    "    z_+= 10000\n",
    "    r_rand, theta, phi = cart_to_spherical(x_, y_, z_)\n",
    "    ra_rand, dec_rand = spherical_to_ra_dec(theta, phi)\n",
    "#     ra_rand = np.random.uniform(min(ra), max(ra), length)\n",
    "#     dec_rand = np.random.uniform(min(dec), max(dec), length)\n",
    "#     r_rand = np.random.uniform(min(r), max(r), length)\n",
    "\n",
    "    ia_1_rand = np.random.normal(loc=0.00010791977297379453, scale=0.14812554318943333, size=length)\n",
    "    ia_2_rand = np.random.normal(loc=3.277059434446139e-05, scale=0.1469793256996833, size=length)\n",
    "\n",
    "    # Create a FITS table\n",
    "    data = fits.BinTableHDU.from_columns([\n",
    "        #fits.Column(name='jackknife_ID', format='D', array=jack),\n",
    "        fits.Column(name='RA', format='D', array=ra_rand),\n",
    "        fits.Column(name='DEC', format='D', array=dec_rand),\n",
    "        fits.Column(name='r_col', format='D', array=r_rand),#0.1001*np.ones(len(pos_g[:,0]))),\n",
    "        fits.Column(name='uniform', format='D', array=np.ones(length))\n",
    "#         fits.Column(name='ia_1', format='D', array=ia_1_rand),\n",
    "#         fits.Column(name='ia_2', format='D', array=ia_2_rand),\n",
    "    ])\n",
    "\n",
    "    # Create a Primary HDU\n",
    "    primary_hdu = fits.PrimaryHDU()\n",
    "\n",
    "    # Create an HDU list\n",
    "    hdul = fits.HDUList([primary_hdu, data])\n",
    "\n",
    "    # Save the FITS file\n",
    "    hdul.writeto(f'LH_ellipticities_RADEC_noORI/CAMELS_proj_rand_LHy{i}.fits', overwrite=True)"
   ]
  },
  {
   "cell_type": "code",
   "execution_count": null,
   "id": "21808d1d",
   "metadata": {},
   "outputs": [],
   "source": []
  },
  {
   "cell_type": "code",
   "execution_count": null,
   "id": "ae72c893",
   "metadata": {},
   "outputs": [],
   "source": []
  },
  {
   "cell_type": "code",
   "execution_count": null,
   "id": "a847f1b4",
   "metadata": {},
   "outputs": [],
   "source": []
  },
  {
   "cell_type": "code",
   "execution_count": null,
   "id": "d20b2c64",
   "metadata": {},
   "outputs": [],
   "source": []
  },
  {
   "cell_type": "code",
   "execution_count": null,
   "id": "fec6db04",
   "metadata": {},
   "outputs": [],
   "source": []
  },
  {
   "cell_type": "code",
   "execution_count": null,
   "id": "3a96b354",
   "metadata": {},
   "outputs": [],
   "source": []
  },
  {
   "cell_type": "code",
   "execution_count": null,
   "id": "637976d5",
   "metadata": {},
   "outputs": [],
   "source": []
  },
  {
   "cell_type": "markdown",
   "id": "7f002c8e",
   "metadata": {},
   "source": [
    "## Finding the Bin Edges of Treecorr"
   ]
  },
  {
   "cell_type": "code",
   "execution_count": 2,
   "id": "622343d7",
   "metadata": {},
   "outputs": [
    {
     "name": "stdout",
     "output_type": "stream",
     "text": [
      "Logarithmic bin edges: [ 0.3         0.60409612  1.2164404   2.44948974  4.93242415  9.93219427\n",
      " 20.        ]\n",
      "Logarithmic bin midpoints: [ 0.4257098   0.85723213  1.72616867  3.47590598  6.99927102 14.09410818]\n"
     ]
    }
   ],
   "source": [
    "# Define the parameters\n",
    "min_sep = 0.3  # Smallest separation (avoid zero for logarithmic scaling)\n",
    "max_sep = 20   # Maximum separation\n",
    "nbins = 6      # Number of bins\n",
    "\n",
    "# Calculate the log spacing factor\n",
    "log_factor = (np.log(max_sep) - np.log(min_sep)) / nbins\n",
    "\n",
    "# Generate the bin edges\n",
    "bins = min_sep * np.exp(np.arange(nbins + 1) * log_factor)\n",
    "\n",
    "# Calculate the midpoints as the geometric mean of each bin's edges\n",
    "midpoints = np.sqrt(bins[:-1] * bins[1:])\n",
    "\n",
    "print(\"Logarithmic bin edges:\", bins)\n",
    "print(\"Logarithmic bin midpoints:\", midpoints)\n"
   ]
  },
  {
   "cell_type": "code",
   "execution_count": null,
   "id": "aac1e40f",
   "metadata": {},
   "outputs": [],
   "source": [
    "[ 0.3         0.60409612  1.2164404   2.44948974  4.93242415  9.93219427\n",
    " 20.        ]"
   ]
  },
  {
   "cell_type": "code",
   "execution_count": null,
   "id": "917a0b81",
   "metadata": {},
   "outputs": [],
   "source": []
  }
 ],
 "metadata": {
  "kernelspec": {
   "display_name": "Python 3 (ipykernel)",
   "language": "python",
   "name": "python3"
  },
  "language_info": {
   "codemirror_mode": {
    "name": "ipython",
    "version": 3
   },
   "file_extension": ".py",
   "mimetype": "text/x-python",
   "name": "python",
   "nbconvert_exporter": "python",
   "pygments_lexer": "ipython3",
   "version": "3.11.5"
  }
 },
 "nbformat": 4,
 "nbformat_minor": 5
}
