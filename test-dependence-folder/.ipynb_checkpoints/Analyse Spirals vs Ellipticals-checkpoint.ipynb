{
 "cells": [
  {
   "cell_type": "code",
   "execution_count": null,
   "id": "22b640af",
   "metadata": {},
   "outputs": [],
   "source": [
    "import matplotlib as mpl\n",
    "import matplotlib.pyplot as plt\n",
    "from astropy.io import ascii\n",
    "import numpy as np\n",
    "from astropy.io import fits\n",
    "\n",
    "SMALL_SIZE = 8\n",
    "MEDIUM_SIZE = 9\n",
    "BIGGER_SIZE = 20\n",
    "\n",
    "plt.rc('font', size=SMALL_SIZE)          # controls default text sizes\n",
    "plt.rc('axes', titlesize=SMALL_SIZE)     # fontsize of the axes title\n",
    "plt.rc('axes', labelsize=MEDIUM_SIZE)    # fontsize of the x and y labels\n",
    "plt.rc('xtick', labelsize=SMALL_SIZE)    # fontsize of the tick labels\n",
    "plt.rc('ytick', labelsize=SMALL_SIZE)    # fontsize of the tick labels\n",
    "plt.rc('legend', fontsize=SMALL_SIZE)    # legend fontsize\n",
    "# plt.rc('figure', titlesize=BIGGER_SIZE)\n",
    "\n",
    "# import matplotlib.font_manager\n",
    "# matplotlib.font_manager.findSystemFonts(fontpaths=None, fontext='ttf')\n",
    "# sorted([f.name for f in matplotlib.font_manager.fontManager.ttflist])\n",
    "plt.rc('font', family='Times New Roman')\n",
    "\n",
    "plt.rcParams['mathtext.fontset'] = 'custom'\n",
    "plt.rcParams['mathtext.rm'] = 'Times New Roman'\n",
    "plt.rcParams['mathtext.it'] = 'Times New Roman:italic'\n",
    "plt.rcParams['mathtext.bf'] = 'Times New Roman:bold'\n",
    "# matplotlib.pyplot.title(r'ABC123 vs $\\mathrm{ABC123}^{123}$')\n",
    "import seaborn as sns\n",
    "sns.set_palette(\"muted\")"
   ]
  },
  {
   "cell_type": "code",
   "execution_count": null,
   "id": "9f9cbe49",
   "metadata": {},
   "outputs": [],
   "source": [
    "label_table = np.loadtxt(\"CosmoAstroSeed_IllustrisTNG_L25n256_LH.txt\", skiprows=1, usecols=range(1, 7))\n",
    "axes = ['x', 'y', 'z']\n",
    "\n",
    "# SSFR < 10^-10.5 M_0/yr\n",
    "d = np.load(\"../wdplus_ell_data.npz\") # dictionary\n",
    "r = d['r']\n",
    "dat = {axis: d[axis] for axis in axes}\n",
    "wdp_ell = np.append(np.array(dat['x']), np.append(dat['y'],dat['z'],axis=0),axis=0)\n",
    "\n",
    "d = np.load(\"../wdcross_ell_data.npz\")\n",
    "dat = {axis: d[axis] for axis in axes}\n",
    "wdx_ell = np.append(np.array(dat['x']), np.append(dat['y'],dat['z'],axis=0),axis=0)\n",
    "# SSFR > 10^-10.5 M_0/yr\n",
    "d = np.load(\"../wdplus_spi_data.npz\") # dictionary\n",
    "r = d['r']\n",
    "dat = {axis: d[axis] for axis in axes}\n",
    "wdp_spi = np.append(np.array(dat['x']), np.append(dat['y'],dat['z'],axis=0),axis=0)\n",
    "\n",
    "d = np.load(\"../wdcross_spi_data.npz\")\n",
    "dat = {axis: d[axis] for axis in axes}\n",
    "wdx_spi = np.append(np.array(dat['x']), np.append(dat['y'],dat['z'],axis=0),axis=0)\n",
    "\n",
    "d = np.load(\"../wdd_data.npz\")\n",
    "wdd = np.array(d['wgg'])\n",
    "\n",
    "\n",
    "print(label_table.shape)\n",
    "corr_labels = np.vstack((label_table,label_table, label_table))\n",
    "for i in range(corr_labels.shape[1]):\n",
    "    if i>1:\n",
    "        corr_labels[:,i] = np.log(corr_labels[:,i])\n"
   ]
  },
  {
   "cell_type": "code",
   "execution_count": null,
   "id": "df9e13b8",
   "metadata": {},
   "outputs": [],
   "source": []
  },
  {
   "cell_type": "code",
   "execution_count": null,
   "id": "0909b1c2",
   "metadata": {},
   "outputs": [],
   "source": []
  },
  {
   "cell_type": "code",
   "execution_count": null,
   "id": "d40c7cdc",
   "metadata": {},
   "outputs": [],
   "source": []
  },
  {
   "cell_type": "code",
   "execution_count": null,
   "id": "b4b8c24a",
   "metadata": {},
   "outputs": [],
   "source": []
  },
  {
   "cell_type": "code",
   "execution_count": null,
   "id": "8ea07d08",
   "metadata": {},
   "outputs": [],
   "source": []
  }
 ],
 "metadata": {
  "kernelspec": {
   "display_name": "Python 3 (ipykernel)",
   "language": "python",
   "name": "python3"
  },
  "language_info": {
   "codemirror_mode": {
    "name": "ipython",
    "version": 3
   },
   "file_extension": ".py",
   "mimetype": "text/x-python",
   "name": "python",
   "nbconvert_exporter": "python",
   "pygments_lexer": "ipython3",
   "version": "3.11.5"
  }
 },
 "nbformat": 4,
 "nbformat_minor": 5
}
